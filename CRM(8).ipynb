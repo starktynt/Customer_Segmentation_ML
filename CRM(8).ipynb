{
  "nbformat": 4,
  "nbformat_minor": 0,
  "metadata": {
    "colab": {
      "name": "CRM.ipynb",
      "provenance": [],
      "collapsed_sections": []
    },
    "kernelspec": {
      "name": "python3",
      "display_name": "Python 3"
    },
    "language_info": {
      "name": "python"
    }
  },
  "cells": [
    {
      "cell_type": "code",
      "metadata": {
        "id": "9Yfyz4C1yOTp"
      },
      "source": [
        "import pandas as pd\n",
        "import matplotlib.pyplot as plt\n",
        "import seaborn as sns\n",
        "from scipy import stats\n",
        "import numpy as np\n",
        "from sklearn.preprocessing import LabelEncoder\n",
        "from matplotlib.image import imread\n",
        "import warnings\n",
        "warnings.filterwarnings('ignore') \n",
        "from sklearn.cluster import KMeans\n",
        "from sklearn.metrics import silhouette_score\n",
        "\n",
        "\n"
      ],
      "execution_count": 5,
      "outputs": []
    },
    {
      "cell_type": "code",
      "metadata": {
        "id": "c8a89ZFcPQSm"
      },
      "source": [
        ""
      ],
      "execution_count": 5,
      "outputs": []
    },
    {
      "cell_type": "markdown",
      "metadata": {
        "id": "yHXom-D9gEhM"
      },
      "source": [
        "*Import needed libraries and read _ csv file for the dataset*\n"
      ]
    },
    {
      "cell_type": "code",
      "metadata": {
        "id": "v2s7MqYFyRO6"
      },
      "source": [
        "url = 'https://drive.google.com/file/d/1c8q_ubY6D4jAq7qU2jewSEulODD3HiJx/view?usp=sharing'\n",
        "path = 'https://drive.google.com/uc?export=download&id='+url.split('/')[-2]\n",
        "jk = pd.read_csv(path)"
      ],
      "execution_count": 6,
      "outputs": []
    },
    {
      "cell_type": "code",
      "metadata": {
        "colab": {
          "base_uri": "https://localhost:8080/",
          "height": 574
        },
        "id": "f2-wr9zd3UsP",
        "outputId": "11bfc220-20fd-4a02-89d7-ece3331449d6"
      },
      "source": [
        "#replace categroical or range values\n",
        "\n",
        "jk['lt_order_cluster'] = jk['lt_order_cluster'].replace(\"2-4\",\"3\")\n",
        "jk['lt_order_cluster'] = jk['lt_order_cluster'].replace(\"5+\",\"5\")\n",
        "#jk['lt_order_cluster'] = jk['lt_order_cluster'].replace(\"2-4\",\"3\")\n",
        "#jk['lt_order_cluster'].replace(\"5+\",\"5\")\n",
        "#pd.to_numeric(jk['lt_order_cluster'])\n",
        "jk.head(10)"
      ],
      "execution_count": 7,
      "outputs": [
        {
          "output_type": "execute_result",
          "data": {
            "text/html": [
              "<div>\n",
              "<style scoped>\n",
              "    .dataframe tbody tr th:only-of-type {\n",
              "        vertical-align: middle;\n",
              "    }\n",
              "\n",
              "    .dataframe tbody tr th {\n",
              "        vertical-align: top;\n",
              "    }\n",
              "\n",
              "    .dataframe thead th {\n",
              "        text-align: right;\n",
              "    }\n",
              "</style>\n",
              "<table border=\"1\" class=\"dataframe\">\n",
              "  <thead>\n",
              "    <tr style=\"text-align: right;\">\n",
              "      <th></th>\n",
              "      <th>Unnamed: 0</th>\n",
              "      <th>analytical_customer_id</th>\n",
              "      <th>voucher_group</th>\n",
              "      <th>segment_frequency_rest</th>\n",
              "      <th>segment_monetary_rest</th>\n",
              "      <th>segment_discount_dh_rest</th>\n",
              "      <th>segment_variety_rest</th>\n",
              "      <th>segment_basket_rest</th>\n",
              "      <th>lt_order_cluster</th>\n",
              "      <th>recency_cluster</th>\n",
              "      <th>lt_cluster</th>\n",
              "      <th>times_in_churn_segments</th>\n",
              "      <th>preferred_order_period_all_verts</th>\n",
              "      <th>loyalty_status_all_verts</th>\n",
              "      <th>returning_probability_segments</th>\n",
              "      <th>orders</th>\n",
              "      <th>margin</th>\n",
              "    </tr>\n",
              "  </thead>\n",
              "  <tbody>\n",
              "    <tr>\n",
              "      <th>0</th>\n",
              "      <td>5</td>\n",
              "      <td>00004b56-d951-4693-aa69-d1986cac9ae0</td>\n",
              "      <td>lv-2|3|18</td>\n",
              "      <td>B</td>\n",
              "      <td>M</td>\n",
              "      <td>N</td>\n",
              "      <td>H</td>\n",
              "      <td>2</td>\n",
              "      <td>5</td>\n",
              "      <td>90-120</td>\n",
              "      <td>720+</td>\n",
              "      <td>4+</td>\n",
              "      <td>multi weekday | multi daytime</td>\n",
              "      <td>Inactive Loyal</td>\n",
              "      <td>0.7-1</td>\n",
              "      <td>0</td>\n",
              "      <td>0.00</td>\n",
              "    </tr>\n",
              "    <tr>\n",
              "      <th>1</th>\n",
              "      <td>11</td>\n",
              "      <td>00008a4a-0e9a-4c05-8cef-01feaf7d5254</td>\n",
              "      <td>hv-2|10|25</td>\n",
              "      <td>E</td>\n",
              "      <td>L</td>\n",
              "      <td>N</td>\n",
              "      <td>N</td>\n",
              "      <td>1</td>\n",
              "      <td>5</td>\n",
              "      <td>120-180</td>\n",
              "      <td>360-720</td>\n",
              "      <td>4+</td>\n",
              "      <td>single weekday | single daytime</td>\n",
              "      <td>Inactive Loyal</td>\n",
              "      <td>0.5-0.7</td>\n",
              "      <td>2</td>\n",
              "      <td>7.91</td>\n",
              "    </tr>\n",
              "    <tr>\n",
              "      <th>2</th>\n",
              "      <td>24</td>\n",
              "      <td>000147e2-b93d-4ca8-bd05-25014e0f7874</td>\n",
              "      <td>Control Group</td>\n",
              "      <td>E</td>\n",
              "      <td>M</td>\n",
              "      <td>H</td>\n",
              "      <td>N</td>\n",
              "      <td>1</td>\n",
              "      <td>5</td>\n",
              "      <td>120-180</td>\n",
              "      <td>720+</td>\n",
              "      <td>4+</td>\n",
              "      <td>single weekday | single daytime</td>\n",
              "      <td>Inactive Loyal</td>\n",
              "      <td>0.5-0.7</td>\n",
              "      <td>11</td>\n",
              "      <td>1.06</td>\n",
              "    </tr>\n",
              "    <tr>\n",
              "      <th>3</th>\n",
              "      <td>29</td>\n",
              "      <td>000172b4-f65e-43f2-b401-02f9c377c892</td>\n",
              "      <td>hv-1|10|13</td>\n",
              "      <td>B</td>\n",
              "      <td>L</td>\n",
              "      <td>N</td>\n",
              "      <td>H</td>\n",
              "      <td>2</td>\n",
              "      <td>5</td>\n",
              "      <td>30-60</td>\n",
              "      <td>&lt;180</td>\n",
              "      <td>2-3</td>\n",
              "      <td>multi weekday | multi daytime</td>\n",
              "      <td>Inactive Multiple Orders</td>\n",
              "      <td>0.7-1</td>\n",
              "      <td>1</td>\n",
              "      <td>5.88</td>\n",
              "    </tr>\n",
              "    <tr>\n",
              "      <th>4</th>\n",
              "      <td>32</td>\n",
              "      <td>0001b27c-9814-4ec4-8eb9-2465f82b0c82</td>\n",
              "      <td>lv-1|3|9</td>\n",
              "      <td>F</td>\n",
              "      <td>L</td>\n",
              "      <td>N</td>\n",
              "      <td>N</td>\n",
              "      <td>1</td>\n",
              "      <td>1</td>\n",
              "      <td>90-120</td>\n",
              "      <td>&lt;180</td>\n",
              "      <td>1</td>\n",
              "      <td>single weekday | single daytime</td>\n",
              "      <td>Inactive Churning 1 Timer</td>\n",
              "      <td>0.3-0.5</td>\n",
              "      <td>0</td>\n",
              "      <td>0.00</td>\n",
              "    </tr>\n",
              "    <tr>\n",
              "      <th>5</th>\n",
              "      <td>36</td>\n",
              "      <td>0001dd5a-29bb-4b07-b3f5-0fba633da4fb</td>\n",
              "      <td>lv-3|3|27</td>\n",
              "      <td>E</td>\n",
              "      <td>L</td>\n",
              "      <td>N</td>\n",
              "      <td>N</td>\n",
              "      <td>1</td>\n",
              "      <td>5</td>\n",
              "      <td>60-90</td>\n",
              "      <td>180-360</td>\n",
              "      <td>2-3</td>\n",
              "      <td>single weekday | single daytime</td>\n",
              "      <td>Inactive Multiple Orders</td>\n",
              "      <td>0.5-0.7</td>\n",
              "      <td>0</td>\n",
              "      <td>0.00</td>\n",
              "    </tr>\n",
              "    <tr>\n",
              "      <th>6</th>\n",
              "      <td>45</td>\n",
              "      <td>00022356-5916-4b95-81e1-d797df8f3697</td>\n",
              "      <td>mv-2|6|20</td>\n",
              "      <td>E</td>\n",
              "      <td>M</td>\n",
              "      <td>N</td>\n",
              "      <td>N</td>\n",
              "      <td>1</td>\n",
              "      <td>3</td>\n",
              "      <td>60-90</td>\n",
              "      <td>720+</td>\n",
              "      <td>2-3</td>\n",
              "      <td>single weekday | single daytime</td>\n",
              "      <td>Inactive Multiple Orders</td>\n",
              "      <td>0.3-0.5</td>\n",
              "      <td>0</td>\n",
              "      <td>0.00</td>\n",
              "    </tr>\n",
              "    <tr>\n",
              "      <th>7</th>\n",
              "      <td>54</td>\n",
              "      <td>00028c02-5120-496f-a753-1036c6717424</td>\n",
              "      <td>mv-3|6|30</td>\n",
              "      <td>B</td>\n",
              "      <td>L</td>\n",
              "      <td>N</td>\n",
              "      <td>L</td>\n",
              "      <td>2</td>\n",
              "      <td>5</td>\n",
              "      <td>120-180</td>\n",
              "      <td>720+</td>\n",
              "      <td>4+</td>\n",
              "      <td>multi weekday | multi daytime</td>\n",
              "      <td>Inactive Loyal</td>\n",
              "      <td>0.7-1</td>\n",
              "      <td>0</td>\n",
              "      <td>0.00</td>\n",
              "    </tr>\n",
              "    <tr>\n",
              "      <th>8</th>\n",
              "      <td>61</td>\n",
              "      <td>0002e000-4f00-4d97-bb33-6f5c08d915b0</td>\n",
              "      <td>mv-1|6|10</td>\n",
              "      <td>E</td>\n",
              "      <td>M</td>\n",
              "      <td>N</td>\n",
              "      <td>N</td>\n",
              "      <td>1</td>\n",
              "      <td>3</td>\n",
              "      <td>120-180</td>\n",
              "      <td>720+</td>\n",
              "      <td>2-3</td>\n",
              "      <td>single weekday | single daytime</td>\n",
              "      <td>Inactive Multiple Orders</td>\n",
              "      <td>0.3-0.5</td>\n",
              "      <td>0</td>\n",
              "      <td>0.00</td>\n",
              "    </tr>\n",
              "    <tr>\n",
              "      <th>9</th>\n",
              "      <td>62</td>\n",
              "      <td>0002f20f-e06a-402a-b428-76b5832a0049</td>\n",
              "      <td>Control Group</td>\n",
              "      <td>D</td>\n",
              "      <td>M</td>\n",
              "      <td>N</td>\n",
              "      <td>M</td>\n",
              "      <td>2</td>\n",
              "      <td>5</td>\n",
              "      <td>60-90</td>\n",
              "      <td>720+</td>\n",
              "      <td>4+</td>\n",
              "      <td>multi weekday | multi daytime</td>\n",
              "      <td>Inactive Loyal</td>\n",
              "      <td>0.7-1</td>\n",
              "      <td>2</td>\n",
              "      <td>15.19</td>\n",
              "    </tr>\n",
              "  </tbody>\n",
              "</table>\n",
              "</div>"
            ],
            "text/plain": [
              "   Unnamed: 0                analytical_customer_id  ... orders margin\n",
              "0           5  00004b56-d951-4693-aa69-d1986cac9ae0  ...      0   0.00\n",
              "1          11  00008a4a-0e9a-4c05-8cef-01feaf7d5254  ...      2   7.91\n",
              "2          24  000147e2-b93d-4ca8-bd05-25014e0f7874  ...     11   1.06\n",
              "3          29  000172b4-f65e-43f2-b401-02f9c377c892  ...      1   5.88\n",
              "4          32  0001b27c-9814-4ec4-8eb9-2465f82b0c82  ...      0   0.00\n",
              "5          36  0001dd5a-29bb-4b07-b3f5-0fba633da4fb  ...      0   0.00\n",
              "6          45  00022356-5916-4b95-81e1-d797df8f3697  ...      0   0.00\n",
              "7          54  00028c02-5120-496f-a753-1036c6717424  ...      0   0.00\n",
              "8          61  0002e000-4f00-4d97-bb33-6f5c08d915b0  ...      0   0.00\n",
              "9          62  0002f20f-e06a-402a-b428-76b5832a0049  ...      2  15.19\n",
              "\n",
              "[10 rows x 17 columns]"
            ]
          },
          "metadata": {
            "tags": []
          },
          "execution_count": 7
        }
      ]
    },
    {
      "cell_type": "code",
      "metadata": {
        "colab": {
          "base_uri": "https://localhost:8080/",
          "height": 297
        },
        "id": "UtvC_ATa3WS0",
        "outputId": "0cf62f2e-3d16-479e-9c28-0d19a29cbd3e"
      },
      "source": [
        "## orders boxplot to check outliers\n",
        "sns.boxplot(jk.orders, showfliers=False)\n",
        "\n"
      ],
      "execution_count": 8,
      "outputs": [
        {
          "output_type": "execute_result",
          "data": {
            "text/plain": [
              "<matplotlib.axes._subplots.AxesSubplot at 0x7f03ef321a50>"
            ]
          },
          "metadata": {
            "tags": []
          },
          "execution_count": 8
        },
        {
          "output_type": "display_data",
          "data": {
            "image/png": "[encoded data removed]",
            "text/plain": [
              "<Figure size 432x288 with 1 Axes>"
            ]
          },
          "metadata": {
            "tags": [],
            "needs_background": "light"
          }
        }
      ]
    },
    {
      "cell_type": "code",
      "metadata": {
        "colab": {
          "base_uri": "https://localhost:8080/",
          "height": 54
        },
        "id": "Hy_Yqwmy3WVF",
        "outputId": "baf3c5d2-13e6-4fd2-c594-b3533044399e"
      },
      "source": [
        "\"\"\"\n",
        "# outliers removal from orders.\n",
        "Q1 = jk['orders'].quantile(0.25)\n",
        "Q3 = jk['orders'].quantile(0.75)\n",
        "IQR = Q3 - Q1    \n",
        "\n",
        "filter = (jk['orders'] >= Q1 - 1.5 * IQR) & (jk['orders'] <= Q3 + 1.5 *IQR)\n",
        "df = jk.loc[filter] \n",
        "\"\"\""
      ],
      "execution_count": 9,
      "outputs": [
        {
          "output_type": "execute_result",
          "data": {
            "application/vnd.google.colaboratory.intrinsic+json": {
              "type": "string"
            },
            "text/plain": [
              "\"\\n# outliers removal from orders.\\nQ1 = jk['orders'].quantile(0.25)\\nQ3 = jk['orders'].quantile(0.75)\\nIQR = Q3 - Q1    \\n\\nfilter = (jk['orders'] >= Q1 - 1.5 * IQR) & (jk['orders'] <= Q3 + 1.5 *IQR)\\ndf = jk.loc[filter] \\n\""
            ]
          },
          "metadata": {
            "tags": []
          },
          "execution_count": 9
        }
      ]
    },
    {
      "cell_type": "code",
      "metadata": {
        "colab": {
          "base_uri": "https://localhost:8080/",
          "height": 297
        },
        "id": "T85HSjb63WXx",
        "outputId": "e4747913-8816-4510-a3a7-23a4757f4a06"
      },
      "source": [
        "df = jk\n",
        "## margin boxplot to check outliers\n",
        "#sns.boxplot(x=df.margin)\n",
        "sns.boxplot(jk.margin, showfliers=False)"
      ],
      "execution_count": 10,
      "outputs": [
        {
          "output_type": "execute_result",
          "data": {
            "text/plain": [
              "<matplotlib.axes._subplots.AxesSubplot at 0x7f03ed9d5a50>"
            ]
          },
          "metadata": {
            "tags": []
          },
          "execution_count": 10
        },
        {
          "output_type": "display_data",
          "data": {
            "image/png": "[encoded data removed]",
            "text/plain": [
              "<Figure size 432x288 with 1 Axes>"
            ]
          },
          "metadata": {
            "tags": [],
            "needs_background": "light"
          }
        }
      ]
    },
    {
      "cell_type": "code",
      "metadata": {
        "colab": {
          "base_uri": "https://localhost:8080/"
        },
        "id": "xmiHhZl43Wa8",
        "outputId": "b09d7278-6c32-4304-d1a1-91e0806e40b2"
      },
      "source": [
        "#df.head()\n",
        "df[\"times_in_churn_segments\"]\n"
      ],
      "execution_count": 11,
      "outputs": [
        {
          "output_type": "execute_result",
          "data": {
            "text/plain": [
              "0          4+\n",
              "1          4+\n",
              "2          4+\n",
              "3         2-3\n",
              "4           1\n",
              "         ... \n",
              "237483      1\n",
              "237484      1\n",
              "237485      1\n",
              "237486    2-3\n",
              "237487      1\n",
              "Name: times_in_churn_segments, Length: 237488, dtype: object"
            ]
          },
          "metadata": {
            "tags": []
          },
          "execution_count": 11
        }
      ]
    },
    {
      "cell_type": "code",
      "metadata": {
        "colab": {
          "base_uri": "https://localhost:8080/"
        },
        "id": "hoeSb5uJ69tQ",
        "outputId": "bd7e8f45-d995-4419-aa13-53f2df609763"
      },
      "source": [
        "#using replace to get range values dtype to int64\n",
        "df[\"times_in_churn_segments\"] = df[\"times_in_churn_segments\"].replace(\"4+\",\"5\")\n",
        "df[\"times_in_churn_segments\"] = df[\"times_in_churn_segments\"].replace(\"2-3\",\"3\")\n",
        "df.shape"
      ],
      "execution_count": 12,
      "outputs": [
        {
          "output_type": "execute_result",
          "data": {
            "text/plain": [
              "(237488, 17)"
            ]
          },
          "metadata": {
            "tags": []
          },
          "execution_count": 12
        }
      ]
    },
    {
      "cell_type": "code",
      "metadata": {
        "id": "_kplZwC17l6-"
      },
      "source": [
        "#removing object type values for clustring\n",
        "df['lt_cluster'] = df['lt_cluster'].replace(\"180-360\",\"270\")\n",
        "df['lt_cluster'] = df['lt_cluster'].replace(\"360-720\",\"540\")\n",
        "df['lt_cluster'] = df['lt_cluster'].replace(\"720+\",\"720\")\n",
        "df['lt_cluster'] = df['lt_cluster'].replace(\"<180\",\"180\")"
      ],
      "execution_count": 13,
      "outputs": []
    },
    {
      "cell_type": "code",
      "metadata": {
        "id": "QL9TA7zp7l9v"
      },
      "source": [
        "\n",
        "# storing first 3 letters of voucher_group // WE NEED THE CODEPHRASE OF VOUCHER\n",
        "for i in range( len(df)):\n",
        "  df.iloc[i]['voucher_group'] = df.iloc[i].voucher_group[:4]\n",
        "  "
      ],
      "execution_count": 14,
      "outputs": []
    },
    {
      "cell_type": "code",
      "metadata": {
        "colab": {
          "base_uri": "https://localhost:8080/",
          "height": 330
        },
        "id": "G6AtXx0xpq6w",
        "outputId": "00b8749e-12ac-40c5-b95f-04349118dece"
      },
      "source": [
        "df.head()"
      ],
      "execution_count": 15,
      "outputs": [
        {
          "output_type": "execute_result",
          "data": {
            "text/html": [
              "<div>\n",
              "<style scoped>\n",
              "    .dataframe tbody tr th:only-of-type {\n",
              "        vertical-align: middle;\n",
              "    }\n",
              "\n",
              "    .dataframe tbody tr th {\n",
              "        vertical-align: top;\n",
              "    }\n",
              "\n",
              "    .dataframe thead th {\n",
              "        text-align: right;\n",
              "    }\n",
              "</style>\n",
              "<table border=\"1\" class=\"dataframe\">\n",
              "  <thead>\n",
              "    <tr style=\"text-align: right;\">\n",
              "      <th></th>\n",
              "      <th>Unnamed: 0</th>\n",
              "      <th>analytical_customer_id</th>\n",
              "      <th>voucher_group</th>\n",
              "      <th>segment_frequency_rest</th>\n",
              "      <th>segment_monetary_rest</th>\n",
              "      <th>segment_discount_dh_rest</th>\n",
              "      <th>segment_variety_rest</th>\n",
              "      <th>segment_basket_rest</th>\n",
              "      <th>lt_order_cluster</th>\n",
              "      <th>recency_cluster</th>\n",
              "      <th>lt_cluster</th>\n",
              "      <th>times_in_churn_segments</th>\n",
              "      <th>preferred_order_period_all_verts</th>\n",
              "      <th>loyalty_status_all_verts</th>\n",
              "      <th>returning_probability_segments</th>\n",
              "      <th>orders</th>\n",
              "      <th>margin</th>\n",
              "    </tr>\n",
              "  </thead>\n",
              "  <tbody>\n",
              "    <tr>\n",
              "      <th>0</th>\n",
              "      <td>5</td>\n",
              "      <td>00004b56-d951-4693-aa69-d1986cac9ae0</td>\n",
              "      <td>lv-2|3|18</td>\n",
              "      <td>B</td>\n",
              "      <td>M</td>\n",
              "      <td>N</td>\n",
              "      <td>H</td>\n",
              "      <td>2</td>\n",
              "      <td>5</td>\n",
              "      <td>90-120</td>\n",
              "      <td>720</td>\n",
              "      <td>5</td>\n",
              "      <td>multi weekday | multi daytime</td>\n",
              "      <td>Inactive Loyal</td>\n",
              "      <td>0.7-1</td>\n",
              "      <td>0</td>\n",
              "      <td>0.00</td>\n",
              "    </tr>\n",
              "    <tr>\n",
              "      <th>1</th>\n",
              "      <td>11</td>\n",
              "      <td>00008a4a-0e9a-4c05-8cef-01feaf7d5254</td>\n",
              "      <td>hv-2|10|25</td>\n",
              "      <td>E</td>\n",
              "      <td>L</td>\n",
              "      <td>N</td>\n",
              "      <td>N</td>\n",
              "      <td>1</td>\n",
              "      <td>5</td>\n",
              "      <td>120-180</td>\n",
              "      <td>540</td>\n",
              "      <td>5</td>\n",
              "      <td>single weekday | single daytime</td>\n",
              "      <td>Inactive Loyal</td>\n",
              "      <td>0.5-0.7</td>\n",
              "      <td>2</td>\n",
              "      <td>7.91</td>\n",
              "    </tr>\n",
              "    <tr>\n",
              "      <th>2</th>\n",
              "      <td>24</td>\n",
              "      <td>000147e2-b93d-4ca8-bd05-25014e0f7874</td>\n",
              "      <td>Control Group</td>\n",
              "      <td>E</td>\n",
              "      <td>M</td>\n",
              "      <td>H</td>\n",
              "      <td>N</td>\n",
              "      <td>1</td>\n",
              "      <td>5</td>\n",
              "      <td>120-180</td>\n",
              "      <td>720</td>\n",
              "      <td>5</td>\n",
              "      <td>single weekday | single daytime</td>\n",
              "      <td>Inactive Loyal</td>\n",
              "      <td>0.5-0.7</td>\n",
              "      <td>11</td>\n",
              "      <td>1.06</td>\n",
              "    </tr>\n",
              "    <tr>\n",
              "      <th>3</th>\n",
              "      <td>29</td>\n",
              "      <td>000172b4-f65e-43f2-b401-02f9c377c892</td>\n",
              "      <td>hv-1|10|13</td>\n",
              "      <td>B</td>\n",
              "      <td>L</td>\n",
              "      <td>N</td>\n",
              "      <td>H</td>\n",
              "      <td>2</td>\n",
              "      <td>5</td>\n",
              "      <td>30-60</td>\n",
              "      <td>180</td>\n",
              "      <td>3</td>\n",
              "      <td>multi weekday | multi daytime</td>\n",
              "      <td>Inactive Multiple Orders</td>\n",
              "      <td>0.7-1</td>\n",
              "      <td>1</td>\n",
              "      <td>5.88</td>\n",
              "    </tr>\n",
              "    <tr>\n",
              "      <th>4</th>\n",
              "      <td>32</td>\n",
              "      <td>0001b27c-9814-4ec4-8eb9-2465f82b0c82</td>\n",
              "      <td>lv-1|3|9</td>\n",
              "      <td>F</td>\n",
              "      <td>L</td>\n",
              "      <td>N</td>\n",
              "      <td>N</td>\n",
              "      <td>1</td>\n",
              "      <td>1</td>\n",
              "      <td>90-120</td>\n",
              "      <td>180</td>\n",
              "      <td>1</td>\n",
              "      <td>single weekday | single daytime</td>\n",
              "      <td>Inactive Churning 1 Timer</td>\n",
              "      <td>0.3-0.5</td>\n",
              "      <td>0</td>\n",
              "      <td>0.00</td>\n",
              "    </tr>\n",
              "  </tbody>\n",
              "</table>\n",
              "</div>"
            ],
            "text/plain": [
              "   Unnamed: 0                analytical_customer_id  ... orders margin\n",
              "0           5  00004b56-d951-4693-aa69-d1986cac9ae0  ...      0   0.00\n",
              "1          11  00008a4a-0e9a-4c05-8cef-01feaf7d5254  ...      2   7.91\n",
              "2          24  000147e2-b93d-4ca8-bd05-25014e0f7874  ...     11   1.06\n",
              "3          29  000172b4-f65e-43f2-b401-02f9c377c892  ...      1   5.88\n",
              "4          32  0001b27c-9814-4ec4-8eb9-2465f82b0c82  ...      0   0.00\n",
              "\n",
              "[5 rows x 17 columns]"
            ]
          },
          "metadata": {
            "tags": []
          },
          "execution_count": 15
        }
      ]
    },
    {
      "cell_type": "code",
      "metadata": {
        "id": "SToVpNp19K7C"
      },
      "source": [
        "#label encoding\n",
        "#Redifining categorical values , ready for computation\n",
        "lb_make = LabelEncoder()\n",
        "df['segment_frequency_rest'] = lb_make.fit_transform(df['segment_frequency_rest'])\n",
        "df['segment_discount_dh_rest'] = lb_make.fit_transform(df['segment_discount_dh_rest'])\n",
        "df['segment_monetary_rest'] = lb_make.fit_transform(df['segment_monetary_rest'])\n",
        "df['segment_variety_rest'] =  lb_make.fit_transform(df['segment_variety_rest'])\n",
        "df['recency_cluster'] = lb_make.fit_transform(df['recency_cluster'])\n",
        "df['preferred_order_period_all_verts'] = lb_make.fit_transform(df['preferred_order_period_all_verts'])\n",
        "df['returning_probability_segments'] = lb_make.fit_transform(df['returning_probability_segments'])\n",
        "df['loyalty_status_all_verts'] = lb_make.fit_transform(df['loyalty_status_all_verts'])\n",
        "df['voucher_group'] = lb_make.fit_transform(df['voucher_group'])\n",
        "\n",
        "#df.head()\n"
      ],
      "execution_count": 16,
      "outputs": []
    },
    {
      "cell_type": "code",
      "metadata": {
        "id": "kugV-pQN-2qb"
      },
      "source": [
        "#df.head(25)"
      ],
      "execution_count": 17,
      "outputs": []
    },
    {
      "cell_type": "markdown",
      "metadata": {
        "id": "0UM680xSgngI"
      },
      "source": [
        "Scatter plot for EDA"
      ]
    },
    {
      "cell_type": "code",
      "metadata": {
        "colab": {
          "base_uri": "https://localhost:8080/",
          "height": 313
        },
        "id": "7tErJIiL-2s3",
        "outputId": "ea208cdc-099b-4d83-8291-b030463c6fb0"
      },
      "source": [
        "### checking for growth / margin \n",
        "\n",
        "fig, ax = plt.subplots()\n",
        "\n",
        "\n",
        "\n",
        "ax.scatter(df['margin'],df['orders'] )\n",
        "# set a title and labels\n",
        "ax.set_title('PLT')\n",
        "ax.set_xlabel('margin')\n",
        "ax.set_ylabel('orders')"
      ],
      "execution_count": 18,
      "outputs": [
        {
          "output_type": "execute_result",
          "data": {
            "text/plain": [
              "Text(0, 0.5, 'orders')"
            ]
          },
          "metadata": {
            "tags": []
          },
          "execution_count": 18
        },
        {
          "output_type": "display_data",
          "data": {
            "image/png": "[encoded data removed]",
            "text/plain": [
              "<Figure size 432x288 with 1 Axes>"
            ]
          },
          "metadata": {
            "tags": [],
            "needs_background": "light"
          }
        }
      ]
    },
    {
      "cell_type": "code",
      "metadata": {
        "id": "vN6dr5b0-2u-"
      },
      "source": [
        ""
      ],
      "execution_count": 18,
      "outputs": []
    },
    {
      "cell_type": "code",
      "metadata": {
        "colab": {
          "base_uri": "https://localhost:8080/",
          "height": 297
        },
        "id": "_MdzOSca-2xF",
        "outputId": "0d4a948c-5da2-49b9-8753-4de7624b284e"
      },
      "source": [
        "#checking  margin   boxplot for EDA\n",
        "sns.boxplot(df.margin , showfliers =False)"
      ],
      "execution_count": 19,
      "outputs": [
        {
          "output_type": "execute_result",
          "data": {
            "text/plain": [
              "<matplotlib.axes._subplots.AxesSubplot at 0x7f03eec9e910>"
            ]
          },
          "metadata": {
            "tags": []
          },
          "execution_count": 19
        },
        {
          "output_type": "display_data",
          "data": {
            "image/png": "[encoded data removed]",
            "text/plain": [
              "<Figure size 432x288 with 1 Axes>"
            ]
          },
          "metadata": {
            "tags": [],
            "needs_background": "light"
          }
        }
      ]
    },
    {
      "cell_type": "code",
      "metadata": {
        "colab": {
          "base_uri": "https://localhost:8080/"
        },
        "id": "1uOZgvu6EOMq",
        "outputId": "c8ea66ef-6cbd-4cf3-9718-d82ca92d3cb3"
      },
      "source": [
        "df.shape"
      ],
      "execution_count": 20,
      "outputs": [
        {
          "output_type": "execute_result",
          "data": {
            "text/plain": [
              "(237488, 17)"
            ]
          },
          "metadata": {
            "tags": []
          },
          "execution_count": 20
        }
      ]
    },
    {
      "cell_type": "code",
      "metadata": {
        "colab": {
          "base_uri": "https://localhost:8080/",
          "height": 330
        },
        "id": "3zGlU9HVEOtv",
        "outputId": "350ca5e5-696d-45aa-cc70-806e3c276d96"
      },
      "source": [
        "\n",
        "df.head()"
      ],
      "execution_count": 21,
      "outputs": [
        {
          "output_type": "execute_result",
          "data": {
            "text/html": [
              "<div>\n",
              "<style scoped>\n",
              "    .dataframe tbody tr th:only-of-type {\n",
              "        vertical-align: middle;\n",
              "    }\n",
              "\n",
              "    .dataframe tbody tr th {\n",
              "        vertical-align: top;\n",
              "    }\n",
              "\n",
              "    .dataframe thead th {\n",
              "        text-align: right;\n",
              "    }\n",
              "</style>\n",
              "<table border=\"1\" class=\"dataframe\">\n",
              "  <thead>\n",
              "    <tr style=\"text-align: right;\">\n",
              "      <th></th>\n",
              "      <th>Unnamed: 0</th>\n",
              "      <th>analytical_customer_id</th>\n",
              "      <th>voucher_group</th>\n",
              "      <th>segment_frequency_rest</th>\n",
              "      <th>segment_monetary_rest</th>\n",
              "      <th>segment_discount_dh_rest</th>\n",
              "      <th>segment_variety_rest</th>\n",
              "      <th>segment_basket_rest</th>\n",
              "      <th>lt_order_cluster</th>\n",
              "      <th>recency_cluster</th>\n",
              "      <th>lt_cluster</th>\n",
              "      <th>times_in_churn_segments</th>\n",
              "      <th>preferred_order_period_all_verts</th>\n",
              "      <th>loyalty_status_all_verts</th>\n",
              "      <th>returning_probability_segments</th>\n",
              "      <th>orders</th>\n",
              "      <th>margin</th>\n",
              "    </tr>\n",
              "  </thead>\n",
              "  <tbody>\n",
              "    <tr>\n",
              "      <th>0</th>\n",
              "      <td>5</td>\n",
              "      <td>00004b56-d951-4693-aa69-d1986cac9ae0</td>\n",
              "      <td>5</td>\n",
              "      <td>1</td>\n",
              "      <td>2</td>\n",
              "      <td>2</td>\n",
              "      <td>0</td>\n",
              "      <td>2</td>\n",
              "      <td>5</td>\n",
              "      <td>3</td>\n",
              "      <td>720</td>\n",
              "      <td>5</td>\n",
              "      <td>0</td>\n",
              "      <td>1</td>\n",
              "      <td>3</td>\n",
              "      <td>0</td>\n",
              "      <td>0.00</td>\n",
              "    </tr>\n",
              "    <tr>\n",
              "      <th>1</th>\n",
              "      <td>11</td>\n",
              "      <td>00008a4a-0e9a-4c05-8cef-01feaf7d5254</td>\n",
              "      <td>2</td>\n",
              "      <td>4</td>\n",
              "      <td>1</td>\n",
              "      <td>2</td>\n",
              "      <td>3</td>\n",
              "      <td>1</td>\n",
              "      <td>5</td>\n",
              "      <td>0</td>\n",
              "      <td>540</td>\n",
              "      <td>5</td>\n",
              "      <td>3</td>\n",
              "      <td>1</td>\n",
              "      <td>2</td>\n",
              "      <td>2</td>\n",
              "      <td>7.91</td>\n",
              "    </tr>\n",
              "    <tr>\n",
              "      <th>2</th>\n",
              "      <td>24</td>\n",
              "      <td>000147e2-b93d-4ca8-bd05-25014e0f7874</td>\n",
              "      <td>0</td>\n",
              "      <td>4</td>\n",
              "      <td>2</td>\n",
              "      <td>0</td>\n",
              "      <td>3</td>\n",
              "      <td>1</td>\n",
              "      <td>5</td>\n",
              "      <td>0</td>\n",
              "      <td>720</td>\n",
              "      <td>5</td>\n",
              "      <td>3</td>\n",
              "      <td>1</td>\n",
              "      <td>2</td>\n",
              "      <td>11</td>\n",
              "      <td>1.06</td>\n",
              "    </tr>\n",
              "    <tr>\n",
              "      <th>3</th>\n",
              "      <td>29</td>\n",
              "      <td>000172b4-f65e-43f2-b401-02f9c377c892</td>\n",
              "      <td>1</td>\n",
              "      <td>1</td>\n",
              "      <td>1</td>\n",
              "      <td>2</td>\n",
              "      <td>0</td>\n",
              "      <td>2</td>\n",
              "      <td>5</td>\n",
              "      <td>1</td>\n",
              "      <td>180</td>\n",
              "      <td>3</td>\n",
              "      <td>0</td>\n",
              "      <td>2</td>\n",
              "      <td>3</td>\n",
              "      <td>1</td>\n",
              "      <td>5.88</td>\n",
              "    </tr>\n",
              "    <tr>\n",
              "      <th>4</th>\n",
              "      <td>32</td>\n",
              "      <td>0001b27c-9814-4ec4-8eb9-2465f82b0c82</td>\n",
              "      <td>4</td>\n",
              "      <td>5</td>\n",
              "      <td>1</td>\n",
              "      <td>2</td>\n",
              "      <td>3</td>\n",
              "      <td>1</td>\n",
              "      <td>1</td>\n",
              "      <td>3</td>\n",
              "      <td>180</td>\n",
              "      <td>1</td>\n",
              "      <td>3</td>\n",
              "      <td>0</td>\n",
              "      <td>1</td>\n",
              "      <td>0</td>\n",
              "      <td>0.00</td>\n",
              "    </tr>\n",
              "  </tbody>\n",
              "</table>\n",
              "</div>"
            ],
            "text/plain": [
              "   Unnamed: 0                analytical_customer_id  ...  orders  margin\n",
              "0           5  00004b56-d951-4693-aa69-d1986cac9ae0  ...       0    0.00\n",
              "1          11  00008a4a-0e9a-4c05-8cef-01feaf7d5254  ...       2    7.91\n",
              "2          24  000147e2-b93d-4ca8-bd05-25014e0f7874  ...      11    1.06\n",
              "3          29  000172b4-f65e-43f2-b401-02f9c377c892  ...       1    5.88\n",
              "4          32  0001b27c-9814-4ec4-8eb9-2465f82b0c82  ...       0    0.00\n",
              "\n",
              "[5 rows x 17 columns]"
            ]
          },
          "metadata": {
            "tags": []
          },
          "execution_count": 21
        }
      ]
    },
    {
      "cell_type": "code",
      "metadata": {
        "id": "MAcm94igEOwT",
        "colab": {
          "base_uri": "https://localhost:8080/",
          "height": 54
        },
        "outputId": "36e24409-7136-4001-ec7f-8b218b503d5b"
      },
      "source": [
        "\"\"\"\n",
        "bar graph\n",
        "genders = df.Gender.value_counts()\n",
        "sns.set_style(\"darkgrid\")\n",
        "plt.figure(figsize=(10,4))\n",
        "sns.barplot(x=genders.index, y=genders.values)\n",
        "plt.show()\n",
        "\"\"\"\n",
        "\n"
      ],
      "execution_count": 22,
      "outputs": [
        {
          "output_type": "execute_result",
          "data": {
            "application/vnd.google.colaboratory.intrinsic+json": {
              "type": "string"
            },
            "text/plain": [
              "'\\nbar graph\\ngenders = df.Gender.value_counts()\\nsns.set_style(\"darkgrid\")\\nplt.figure(figsize=(10,4))\\nsns.barplot(x=genders.index, y=genders.values)\\nplt.show()\\n'"
            ]
          },
          "metadata": {
            "tags": []
          },
          "execution_count": 22
        }
      ]
    },
    {
      "cell_type": "markdown",
      "metadata": {
        "id": "H9hacA2Ogv_t"
      },
      "source": [
        "Using sklearn K means clustring which is an unsupervised segmentation method"
      ]
    },
    {
      "cell_type": "code",
      "metadata": {
        "id": "XuPZK_KREOyv",
        "colab": {
          "base_uri": "https://localhost:8080/",
          "height": 399
        },
        "outputId": "b7b8fb49-f3ae-4a2a-8b37-718056b4ebbe"
      },
      "source": [
        "## k means algorithm\n",
        "\n",
        "\n",
        "wcss = []\n",
        "for k in range(1,11):\n",
        "    kmeans = KMeans(n_clusters=k, init=\"k-means++\")\n",
        "    kmeans.fit(df.iloc[:,3:])\n",
        "    wcss.append(kmeans.inertia_)\n",
        "plt.figure(figsize=(12,6))    \n",
        "plt.grid()\n",
        "plt.plot(range(1,11),wcss, linewidth=2, color=\"red\", marker =\"8\")\n",
        "plt.xlabel(\"K Value\")\n",
        "plt.xticks(np.arange(1,11,1))\n",
        "plt.ylabel(\"WCSS\")\n",
        "plt.show()\n"
      ],
      "execution_count": 23,
      "outputs": [
        {
          "output_type": "display_data",
          "data": {
            "image/png": "[encoded data removed]",
            "text/plain": [
              "<Figure size 864x432 with 1 Axes>"
            ]
          },
          "metadata": {
            "tags": [],
            "needs_background": "light"
          }
        }
      ]
    },
    {
      "cell_type": "markdown",
      "metadata": {
        "id": "dWXEY1bJEQk4"
      },
      "source": [
        "Silhouette analysis\n",
        "\n",
        "Silhouette analysis can be used to study the separation distance between the resulting clusters. The silhouette plot displays a measure of how close each point in one cluster is to points in the neighboring clusters and thus provides a way to assess parameters like number of clusters visually\n"
      ]
    },
    {
      "cell_type": "markdown",
      "metadata": {
        "id": "Xpp0ohnNFQ4g"
      },
      "source": [
        "Elbow method\n",
        "\n",
        "We can find the optimum value for K using an Elbow point graph. We randomly initialise the K-Means algorithm for a range of K values and will plot it against the WCSS for each K value.\n"
      ]
    },
    {
      "cell_type": "code",
      "metadata": {
        "id": "KBz_7n62dWLK"
      },
      "source": [
        "### we get an elbow value of 3\n",
        "### Below you can find the silhouette score analysis , for a value of 3 clusters .\n",
        "KMeanzz= KMeans(n_clusters=2)\n",
        "KMeanzz.fit(df.iloc[:,3:])\n",
        "label=KMeanzz.predict(df.iloc[:,3:])\n",
        "\n",
        "#print(f'Silhouette Score(n=3): {silhouette_score(df.iloc[:,3:], label)}')\n",
        "\n",
        "##remove comment from above to check , for a faster transition.\n"
      ],
      "execution_count": 24,
      "outputs": []
    },
    {
      "cell_type": "code",
      "metadata": {
        "id": "ScAPFosJFQbe"
      },
      "source": [
        ""
      ],
      "execution_count": 24,
      "outputs": []
    },
    {
      "cell_type": "code",
      "metadata": {
        "colab": {
          "base_uri": "https://localhost:8080/",
          "height": 575
        },
        "id": "xuJNOFIagYZ2",
        "outputId": "2cd779fb-f9bd-4d99-9b62-08951bab33ea"
      },
      "source": [
        "## kmeans cluster's with elbow value of 3 , based and verified via WCSS\n",
        "\n",
        "km = KMeans(n_clusters=3)\n",
        "clusters = km.fit_predict(df.iloc[:,3:])\n",
        "df[\"label\"] = clusters\n",
        "\n",
        "from mpl_toolkits.mplot3d import Axes3D\n",
        "import matplotlib.pyplot as plt\n",
        "import numpy as np\n",
        "import pandas as pd\n",
        " \n",
        "fig = plt.figure(figsize=(20,10))\n",
        "ax = fig.add_subplot(111, projection='3d')\n",
        "ax.scatter( df[\"segment_discount_dh_rest\"][df.label == 0],df.voucher_group[df.label == 0], df[\"margin\"][df.label == 0], c='blue', s=60)\n",
        "ax.scatter(df[\"segment_discount_dh_rest\"][df.label == 1],df.voucher_group[df.label == 1], df[\"margin\"][df.label == 1],  c='red', s=60)\n",
        "ax.scatter(df[\"segment_discount_dh_rest\"][df.label == 2],df.voucher_group[df.label == 2], df[\"margin\"][df.label == 2],  c='green', s=60)\n",
        "\n",
        "### 3d plot - showing positions of our clusters which are color coded respective to the measurements / margin / voucher_group\n",
        "ax.view_init(30, 185)\n",
        "plt.xlabel(\"order\")\n",
        "plt.ylabel(\"voucher\")\n",
        "ax.set_zlabel('margin')\n",
        "plt.show()"
      ],
      "execution_count": 25,
      "outputs": [
        {
          "output_type": "display_data",
          "data": {
            "image/png": "[encoded data removed]",
            "text/plain": [
              "<Figure size 1440x720 with 1 Axes>"
            ]
          },
          "metadata": {
            "tags": [],
            "needs_background": "light"
          }
        }
      ]
    },
    {
      "cell_type": "code",
      "metadata": {
        "colab": {
          "base_uri": "https://localhost:8080/",
          "height": 314
        },
        "id": "5ZyyMBXsgYes",
        "outputId": "10e92a35-4391-4438-e348-2ea0f98b2d6a"
      },
      "source": [
        "## scatter plot of voucher / margin for analysis\n",
        "fig, ax = plt.subplots()\n",
        "\n",
        "\n",
        "ax.scatter(df['voucher_group'],df['margin'] )\n",
        "# set a title and labels\n",
        "ax.set_title('PLT')\n",
        "ax.set_xlabel('voucher_group')\n",
        "ax.set_ylabel('margin')\n",
        "  "
      ],
      "execution_count": 26,
      "outputs": [
        {
          "output_type": "execute_result",
          "data": {
            "text/plain": [
              "Text(0, 0.5, 'margin')"
            ]
          },
          "metadata": {
            "tags": []
          },
          "execution_count": 26
        },
        {
          "output_type": "display_data",
          "data": {
            "image/png": "[encoded data removed]",
            "text/plain": [
              "<Figure size 432x288 with 1 Axes>"
            ]
          },
          "metadata": {
            "tags": [],
            "needs_background": "light"
          }
        }
      ]
    },
    {
      "cell_type": "markdown",
      "metadata": {
        "id": "TLOX01SAr3QR"
      },
      "source": [
        "The margins are higher for voucher id = 6 , which is voucher code = lv-3"
      ]
    },
    {
      "cell_type": "code",
      "metadata": {
        "colab": {
          "base_uri": "https://localhost:8080/",
          "height": 314
        },
        "id": "aRg5Av5WrjBU",
        "outputId": "b0c843d4-6f5a-4c82-9c39-408b53aa1ba6"
      },
      "source": [
        "## scatter plot value's for voucher / orders\n",
        "fig, ax = plt.subplots()\n",
        "\n",
        "\n",
        "ax.scatter(df['voucher_group'],df['orders'] )\n",
        "# set a title and labels\n",
        "ax.set_title('PLT')\n",
        "ax.set_xlabel('voucher_group')\n",
        "ax.set_ylabel('orders')\n",
        "  "
      ],
      "execution_count": 27,
      "outputs": [
        {
          "output_type": "execute_result",
          "data": {
            "text/plain": [
              "Text(0, 0.5, 'orders')"
            ]
          },
          "metadata": {
            "tags": []
          },
          "execution_count": 27
        },
        {
          "output_type": "display_data",
          "data": {
            "image/png": "[encoded data removed]",
            "text/plain": [
              "<Figure size 432x288 with 1 Axes>"
            ]
          },
          "metadata": {
            "tags": [],
            "needs_background": "light"
          }
        }
      ]
    },
    {
      "cell_type": "markdown",
      "metadata": {
        "id": "ZBRM0RXosJXb"
      },
      "source": [
        "The orders are higher for voucher id =0 , more growth , voucher code = lv-1"
      ]
    },
    {
      "cell_type": "code",
      "metadata": {
        "id": "R4fSNrjjgYoA",
        "colab": {
          "base_uri": "https://localhost:8080/",
          "height": 574
        },
        "outputId": "e6de7e72-0ac8-42b5-8b67-6a8695097704"
      },
      "source": [
        "df.head(10)\n"
      ],
      "execution_count": 28,
      "outputs": [
        {
          "output_type": "execute_result",
          "data": {
            "text/html": [
              "<div>\n",
              "<style scoped>\n",
              "    .dataframe tbody tr th:only-of-type {\n",
              "        vertical-align: middle;\n",
              "    }\n",
              "\n",
              "    .dataframe tbody tr th {\n",
              "        vertical-align: top;\n",
              "    }\n",
              "\n",
              "    .dataframe thead th {\n",
              "        text-align: right;\n",
              "    }\n",
              "</style>\n",
              "<table border=\"1\" class=\"dataframe\">\n",
              "  <thead>\n",
              "    <tr style=\"text-align: right;\">\n",
              "      <th></th>\n",
              "      <th>Unnamed: 0</th>\n",
              "      <th>analytical_customer_id</th>\n",
              "      <th>voucher_group</th>\n",
              "      <th>segment_frequency_rest</th>\n",
              "      <th>segment_monetary_rest</th>\n",
              "      <th>segment_discount_dh_rest</th>\n",
              "      <th>segment_variety_rest</th>\n",
              "      <th>segment_basket_rest</th>\n",
              "      <th>lt_order_cluster</th>\n",
              "      <th>recency_cluster</th>\n",
              "      <th>lt_cluster</th>\n",
              "      <th>times_in_churn_segments</th>\n",
              "      <th>preferred_order_period_all_verts</th>\n",
              "      <th>loyalty_status_all_verts</th>\n",
              "      <th>returning_probability_segments</th>\n",
              "      <th>orders</th>\n",
              "      <th>margin</th>\n",
              "      <th>label</th>\n",
              "    </tr>\n",
              "  </thead>\n",
              "  <tbody>\n",
              "    <tr>\n",
              "      <th>0</th>\n",
              "      <td>5</td>\n",
              "      <td>00004b56-d951-4693-aa69-d1986cac9ae0</td>\n",
              "      <td>5</td>\n",
              "      <td>1</td>\n",
              "      <td>2</td>\n",
              "      <td>2</td>\n",
              "      <td>0</td>\n",
              "      <td>2</td>\n",
              "      <td>5</td>\n",
              "      <td>3</td>\n",
              "      <td>720</td>\n",
              "      <td>5</td>\n",
              "      <td>0</td>\n",
              "      <td>1</td>\n",
              "      <td>3</td>\n",
              "      <td>0</td>\n",
              "      <td>0.00</td>\n",
              "      <td>2</td>\n",
              "    </tr>\n",
              "    <tr>\n",
              "      <th>1</th>\n",
              "      <td>11</td>\n",
              "      <td>00008a4a-0e9a-4c05-8cef-01feaf7d5254</td>\n",
              "      <td>2</td>\n",
              "      <td>4</td>\n",
              "      <td>1</td>\n",
              "      <td>2</td>\n",
              "      <td>3</td>\n",
              "      <td>1</td>\n",
              "      <td>5</td>\n",
              "      <td>0</td>\n",
              "      <td>540</td>\n",
              "      <td>5</td>\n",
              "      <td>3</td>\n",
              "      <td>1</td>\n",
              "      <td>2</td>\n",
              "      <td>2</td>\n",
              "      <td>7.91</td>\n",
              "      <td>0</td>\n",
              "    </tr>\n",
              "    <tr>\n",
              "      <th>2</th>\n",
              "      <td>24</td>\n",
              "      <td>000147e2-b93d-4ca8-bd05-25014e0f7874</td>\n",
              "      <td>0</td>\n",
              "      <td>4</td>\n",
              "      <td>2</td>\n",
              "      <td>0</td>\n",
              "      <td>3</td>\n",
              "      <td>1</td>\n",
              "      <td>5</td>\n",
              "      <td>0</td>\n",
              "      <td>720</td>\n",
              "      <td>5</td>\n",
              "      <td>3</td>\n",
              "      <td>1</td>\n",
              "      <td>2</td>\n",
              "      <td>11</td>\n",
              "      <td>1.06</td>\n",
              "      <td>2</td>\n",
              "    </tr>\n",
              "    <tr>\n",
              "      <th>3</th>\n",
              "      <td>29</td>\n",
              "      <td>000172b4-f65e-43f2-b401-02f9c377c892</td>\n",
              "      <td>1</td>\n",
              "      <td>1</td>\n",
              "      <td>1</td>\n",
              "      <td>2</td>\n",
              "      <td>0</td>\n",
              "      <td>2</td>\n",
              "      <td>5</td>\n",
              "      <td>1</td>\n",
              "      <td>180</td>\n",
              "      <td>3</td>\n",
              "      <td>0</td>\n",
              "      <td>2</td>\n",
              "      <td>3</td>\n",
              "      <td>1</td>\n",
              "      <td>5.88</td>\n",
              "      <td>1</td>\n",
              "    </tr>\n",
              "    <tr>\n",
              "      <th>4</th>\n",
              "      <td>32</td>\n",
              "      <td>0001b27c-9814-4ec4-8eb9-2465f82b0c82</td>\n",
              "      <td>4</td>\n",
              "      <td>5</td>\n",
              "      <td>1</td>\n",
              "      <td>2</td>\n",
              "      <td>3</td>\n",
              "      <td>1</td>\n",
              "      <td>1</td>\n",
              "      <td>3</td>\n",
              "      <td>180</td>\n",
              "      <td>1</td>\n",
              "      <td>3</td>\n",
              "      <td>0</td>\n",
              "      <td>1</td>\n",
              "      <td>0</td>\n",
              "      <td>0.00</td>\n",
              "      <td>1</td>\n",
              "    </tr>\n",
              "    <tr>\n",
              "      <th>5</th>\n",
              "      <td>36</td>\n",
              "      <td>0001dd5a-29bb-4b07-b3f5-0fba633da4fb</td>\n",
              "      <td>6</td>\n",
              "      <td>4</td>\n",
              "      <td>1</td>\n",
              "      <td>2</td>\n",
              "      <td>3</td>\n",
              "      <td>1</td>\n",
              "      <td>5</td>\n",
              "      <td>2</td>\n",
              "      <td>270</td>\n",
              "      <td>3</td>\n",
              "      <td>3</td>\n",
              "      <td>2</td>\n",
              "      <td>2</td>\n",
              "      <td>0</td>\n",
              "      <td>0.00</td>\n",
              "      <td>1</td>\n",
              "    </tr>\n",
              "    <tr>\n",
              "      <th>6</th>\n",
              "      <td>45</td>\n",
              "      <td>00022356-5916-4b95-81e1-d797df8f3697</td>\n",
              "      <td>8</td>\n",
              "      <td>4</td>\n",
              "      <td>2</td>\n",
              "      <td>2</td>\n",
              "      <td>3</td>\n",
              "      <td>1</td>\n",
              "      <td>3</td>\n",
              "      <td>2</td>\n",
              "      <td>720</td>\n",
              "      <td>3</td>\n",
              "      <td>3</td>\n",
              "      <td>2</td>\n",
              "      <td>1</td>\n",
              "      <td>0</td>\n",
              "      <td>0.00</td>\n",
              "      <td>2</td>\n",
              "    </tr>\n",
              "    <tr>\n",
              "      <th>7</th>\n",
              "      <td>54</td>\n",
              "      <td>00028c02-5120-496f-a753-1036c6717424</td>\n",
              "      <td>9</td>\n",
              "      <td>1</td>\n",
              "      <td>1</td>\n",
              "      <td>2</td>\n",
              "      <td>1</td>\n",
              "      <td>2</td>\n",
              "      <td>5</td>\n",
              "      <td>0</td>\n",
              "      <td>720</td>\n",
              "      <td>5</td>\n",
              "      <td>0</td>\n",
              "      <td>1</td>\n",
              "      <td>3</td>\n",
              "      <td>0</td>\n",
              "      <td>0.00</td>\n",
              "      <td>2</td>\n",
              "    </tr>\n",
              "    <tr>\n",
              "      <th>8</th>\n",
              "      <td>61</td>\n",
              "      <td>0002e000-4f00-4d97-bb33-6f5c08d915b0</td>\n",
              "      <td>7</td>\n",
              "      <td>4</td>\n",
              "      <td>2</td>\n",
              "      <td>2</td>\n",
              "      <td>3</td>\n",
              "      <td>1</td>\n",
              "      <td>3</td>\n",
              "      <td>0</td>\n",
              "      <td>720</td>\n",
              "      <td>3</td>\n",
              "      <td>3</td>\n",
              "      <td>2</td>\n",
              "      <td>1</td>\n",
              "      <td>0</td>\n",
              "      <td>0.00</td>\n",
              "      <td>2</td>\n",
              "    </tr>\n",
              "    <tr>\n",
              "      <th>9</th>\n",
              "      <td>62</td>\n",
              "      <td>0002f20f-e06a-402a-b428-76b5832a0049</td>\n",
              "      <td>0</td>\n",
              "      <td>3</td>\n",
              "      <td>2</td>\n",
              "      <td>2</td>\n",
              "      <td>2</td>\n",
              "      <td>2</td>\n",
              "      <td>5</td>\n",
              "      <td>2</td>\n",
              "      <td>720</td>\n",
              "      <td>5</td>\n",
              "      <td>0</td>\n",
              "      <td>1</td>\n",
              "      <td>3</td>\n",
              "      <td>2</td>\n",
              "      <td>15.19</td>\n",
              "      <td>2</td>\n",
              "    </tr>\n",
              "  </tbody>\n",
              "</table>\n",
              "</div>"
            ],
            "text/plain": [
              "   Unnamed: 0                analytical_customer_id  ...  margin  label\n",
              "0           5  00004b56-d951-4693-aa69-d1986cac9ae0  ...    0.00      2\n",
              "1          11  00008a4a-0e9a-4c05-8cef-01feaf7d5254  ...    7.91      0\n",
              "2          24  000147e2-b93d-4ca8-bd05-25014e0f7874  ...    1.06      2\n",
              "3          29  000172b4-f65e-43f2-b401-02f9c377c892  ...    5.88      1\n",
              "4          32  0001b27c-9814-4ec4-8eb9-2465f82b0c82  ...    0.00      1\n",
              "5          36  0001dd5a-29bb-4b07-b3f5-0fba633da4fb  ...    0.00      1\n",
              "6          45  00022356-5916-4b95-81e1-d797df8f3697  ...    0.00      2\n",
              "7          54  00028c02-5120-496f-a753-1036c6717424  ...    0.00      2\n",
              "8          61  0002e000-4f00-4d97-bb33-6f5c08d915b0  ...    0.00      2\n",
              "9          62  0002f20f-e06a-402a-b428-76b5832a0049  ...   15.19      2\n",
              "\n",
              "[10 rows x 18 columns]"
            ]
          },
          "metadata": {
            "tags": []
          },
          "execution_count": 28
        }
      ]
    },
    {
      "cell_type": "code",
      "metadata": {
        "colab": {
          "base_uri": "https://localhost:8080/",
          "height": 280
        },
        "id": "12BGREBQmLnF",
        "outputId": "25b5a33c-dfc5-4ccd-c43c-6e5aa94acc02"
      },
      "source": [
        "## plotting a more visually appeling bar plot\n",
        "\n",
        "genders = df.label.value_counts()\n",
        "sns.set_style(\"darkgrid\")\n",
        "plt.figure(figsize=(10,4))\n",
        "\n",
        "\n",
        "\n",
        "\n",
        "sns.barplot( x=df.voucher_group ,y=df.margin)\n",
        "plt.show()\n",
        "\n",
        "\n",
        "\n",
        "\n",
        "\n",
        "\n"
      ],
      "execution_count": 29,
      "outputs": [
        {
          "output_type": "display_data",
          "data": {
            "image/png": "[encoded data removed]",
            "text/plain": [
              "<Figure size 720x288 with 1 Axes>"
            ]
          },
          "metadata": {
            "tags": []
          }
        }
      ]
    },
    {
      "cell_type": "markdown",
      "metadata": {
        "id": "aLhdj82y8YSF"
      },
      "source": [
        "Highest maring values are for voucher_group id =6 , which is voucher = lv-3\n"
      ]
    },
    {
      "cell_type": "code",
      "metadata": {
        "colab": {
          "base_uri": "https://localhost:8080/",
          "height": 280
        },
        "id": "bX3Cu4pV7Bev",
        "outputId": "8cc94c93-0ed9-4b78-dc25-5048d13884cf"
      },
      "source": [
        "## bar plot for orders / growth\n",
        "genders = df.label.value_counts()\n",
        "sns.set_style(\"darkgrid\")\n",
        "plt.figure(figsize=(10,4))\n",
        "\n",
        "\n",
        "\n",
        "sns.barplot( x=df.voucher_group ,y=df.orders)\n",
        "plt.show()"
      ],
      "execution_count": 30,
      "outputs": [
        {
          "output_type": "display_data",
          "data": {
            "image/png": "[encoded data removed]",
            "text/plain": [
              "<Figure size 720x288 with 1 Axes>"
            ]
          },
          "metadata": {
            "tags": []
          }
        }
      ]
    },
    {
      "cell_type": "code",
      "metadata": {
        "colab": {
          "base_uri": "https://localhost:8080/"
        },
        "id": "8M3br9VTos7k",
        "outputId": "f6e0cf8a-8bc6-4314-dbdd-c61f22a057fe"
      },
      "source": [
        "df.margin\n"
      ],
      "execution_count": 31,
      "outputs": [
        {
          "output_type": "execute_result",
          "data": {
            "text/plain": [
              "0         0.00\n",
              "1         7.91\n",
              "2         1.06\n",
              "3         5.88\n",
              "4         0.00\n",
              "          ... \n",
              "237483    0.00\n",
              "237484    0.00\n",
              "237485    0.00\n",
              "237486    6.15\n",
              "237487    0.00\n",
              "Name: margin, Length: 237488, dtype: float64"
            ]
          },
          "metadata": {
            "tags": []
          },
          "execution_count": 31
        }
      ]
    },
    {
      "cell_type": "code",
      "metadata": {
        "id": "4PKI9GsquOm6",
        "colab": {
          "base_uri": "https://localhost:8080/"
        },
        "outputId": "521c420e-dc6f-41ec-d5ca-0463ecaee6d7"
      },
      "source": [
        "df_new = df[df['label'] == 0]\n",
        "df_new1 = df[df['label'] == 1]\n",
        "df_new2 = df[df['label'] == 2]\n",
        "  \n",
        "print(df_new)"
      ],
      "execution_count": 32,
      "outputs": [
        {
          "output_type": "stream",
          "text": [
            "        Unnamed: 0                analytical_customer_id  ...  margin  label\n",
            "1               11  00008a4a-0e9a-4c05-8cef-01feaf7d5254  ...    7.91      0\n",
            "10              70  00030f77-c0e0-4168-a633-3ffc6b128bba  ...    0.00      0\n",
            "15              88  00041a70-e584-4385-bcf6-31d959dbaecc  ...    0.00      0\n",
            "18              93  00043d9d-fbd7-4d3d-b9b0-b2a092fed2a6  ...    0.00      0\n",
            "20              97  00046ae9-1701-400c-8dc1-59da3c542c89  ...    0.00      0\n",
            "...            ...                                   ...  ...     ...    ...\n",
            "237460     1249560  fff7132a-e57b-429f-ac4c-3d0136045e76  ...   -2.26      0\n",
            "237465     1249580  fff8c282-3242-4f8e-a116-bd91a6182546  ...    7.66      0\n",
            "237470     1249605  fffa3a93-4f84-4b1e-9bf1-59e66dc36d27  ...    9.85      0\n",
            "237478     1249640  fffc5e06-55b2-4122-bee9-39593decb13d  ...   21.13      0\n",
            "237479     1249647  fffcddab-6b2e-4e94-a605-2f44bc2183d2  ...    4.19      0\n",
            "\n",
            "[47696 rows x 18 columns]\n"
          ],
          "name": "stdout"
        }
      ]
    },
    {
      "cell_type": "code",
      "metadata": {
        "colab": {
          "base_uri": "https://localhost:8080/"
        },
        "id": "HD7yx7kj_vDG",
        "outputId": "a4516f7c-bc25-4df6-c2c9-10cf4e178531"
      },
      "source": [
        "df_new.head()\n",
        "pc = df_new.voucher_group.value_counts()\n",
        "print(pc)"
      ],
      "execution_count": 33,
      "outputs": [
        {
          "output_type": "stream",
          "text": [
            "0    22832\n",
            "5     2870\n",
            "6     2815\n",
            "1     2766\n",
            "3     2761\n",
            "8     2758\n",
            "7     2755\n",
            "9     2746\n",
            "2     2711\n",
            "4     2682\n",
            "Name: voucher_group, dtype: int64\n"
          ],
          "name": "stdout"
        }
      ]
    },
    {
      "cell_type": "markdown",
      "metadata": {
        "id": "elaOC3tZIuem"
      },
      "source": [
        "Checking for the highest count values of customer using certain vouchers  , which kmeans lables has returned to us."
      ]
    },
    {
      "cell_type": "code",
      "metadata": {
        "colab": {
          "base_uri": "https://localhost:8080/"
        },
        "id": "Ftf2Af4e_4OU",
        "outputId": "b6790256-86a6-47c6-90bf-85630ea6e69c"
      },
      "source": [
        "## checking avg , margin mean values to get to best voucher\n",
        "print(df_new.margin.mean())\n",
        "print(df_new1.margin.mean())\n",
        "print(df_new2.margin.mean())"
      ],
      "execution_count": 34,
      "outputs": [
        {
          "output_type": "stream",
          "text": [
            "3.2155834870848805\n",
            "1.8567930065342122\n",
            "3.763134894351999\n"
          ],
          "name": "stdout"
        }
      ]
    },
    {
      "cell_type": "markdown",
      "metadata": {
        "id": "q0Qaj3nNI0do"
      },
      "source": [
        "Highest margins are of the set of customers in label 1 , where the most used voucher is voucher_group = hv-1"
      ]
    },
    {
      "cell_type": "code",
      "metadata": {
        "colab": {
          "base_uri": "https://localhost:8080/"
        },
        "id": "1b9PoJqeDnIc",
        "outputId": "ac2d7bb8-7a10-4c30-852b-6c7f48867ed4"
      },
      "source": [
        "df_new['voucher_group']\n",
        "print(df_new.voucher_group.value_counts())\n",
        "df_new0 = df[df['voucher_group'] == 0]"
      ],
      "execution_count": 35,
      "outputs": [
        {
          "output_type": "stream",
          "text": [
            "0    22832\n",
            "5     2870\n",
            "6     2815\n",
            "1     2766\n",
            "3     2761\n",
            "8     2758\n",
            "7     2755\n",
            "9     2746\n",
            "2     2711\n",
            "4     2682\n",
            "Name: voucher_group, dtype: int64\n"
          ],
          "name": "stdout"
        }
      ]
    },
    {
      "cell_type": "code",
      "metadata": {
        "id": "S-YH1ZxvAZw_"
      },
      "source": [
        "#print(df[df['voucher_group'] == 0])"
      ],
      "execution_count": 36,
      "outputs": []
    },
    {
      "cell_type": "markdown",
      "metadata": {
        "id": "9wEDU2yiBNUo"
      },
      "source": [
        "The voucher_group = 1 || hv-1 , is the best voucher to be given to increase the Growth (no. of orders) and Revenue"
      ]
    },
    {
      "cell_type": "code",
      "metadata": {
        "id": "WxakGld8BKsu"
      },
      "source": [
        "##conclusion"
      ],
      "execution_count": 37,
      "outputs": []
    },
    {
      "cell_type": "markdown",
      "metadata": {
        "id": "d_Jmk7KD9b0A"
      },
      "source": [
        "The best voucher to be used to increase margin andgrowth , is calculated by looking for themost used voucher  within a clustered group of customerswhich has the highest margin andgrowth ratio.We have used k-means clustering for customer segmentationto find out that the Best margin isoffered by the voucher id =6  , which is voucher code= lv-3 .For best growth , we have considered the most usedvoucher among the best avg margin given,Which is Given as voucher id =0 , which is vouchercode = lv-1 .Thus the best overall voucher is voucher id = 0 whichwould increase the growth , and wouldincrease revenue and orders.Voucher code = lv-1 ,is the best voucher found throughData analysis.\n"
      ]
    },
    {
      "cell_type": "code",
      "metadata": {
        "id": "MFFrQyT8VmAn",
        "colab": {
          "base_uri": "https://localhost:8080/"
        },
        "outputId": "5260f731-e8bd-4cf9-ac8d-5adb75e84c00"
      },
      "source": [
        "###\n",
        "df.info()"
      ],
      "execution_count": 38,
      "outputs": [
        {
          "output_type": "stream",
          "text": [
            "<class 'pandas.core.frame.DataFrame'>\n",
            "RangeIndex: 237488 entries, 0 to 237487\n",
            "Data columns (total 18 columns):\n",
            " #   Column                            Non-Null Count   Dtype  \n",
            "---  ------                            --------------   -----  \n",
            " 0   Unnamed: 0                        237488 non-null  int64  \n",
            " 1   analytical_customer_id            237488 non-null  object \n",
            " 2   voucher_group                     237488 non-null  int64  \n",
            " 3   segment_frequency_rest            237488 non-null  int64  \n",
            " 4   segment_monetary_rest             237488 non-null  int64  \n",
            " 5   segment_discount_dh_rest          237488 non-null  int64  \n",
            " 6   segment_variety_rest              237488 non-null  int64  \n",
            " 7   segment_basket_rest               237488 non-null  int64  \n",
            " 8   lt_order_cluster                  237488 non-null  object \n",
            " 9   recency_cluster                   237488 non-null  int64  \n",
            " 10  lt_cluster                        237488 non-null  object \n",
            " 11  times_in_churn_segments           237488 non-null  object \n",
            " 12  preferred_order_period_all_verts  237488 non-null  int64  \n",
            " 13  loyalty_status_all_verts          237488 non-null  int64  \n",
            " 14  returning_probability_segments    237488 non-null  int64  \n",
            " 15  orders                            237488 non-null  int64  \n",
            " 16  margin                            237488 non-null  float64\n",
            " 17  label                             237488 non-null  int32  \n",
            "dtypes: float64(1), int32(1), int64(12), object(4)\n",
            "memory usage: 31.7+ MB\n"
          ],
          "name": "stdout"
        }
      ]
    },
    {
      "cell_type": "code",
      "metadata": {
        "id": "Y4fH2-DwWpSa",
        "colab": {
          "base_uri": "https://localhost:8080/",
          "height": 330
        },
        "outputId": "49f425f0-42b1-4ab3-b281-ead2885e88d5"
      },
      "source": [
        "df.head()"
      ],
      "execution_count": 39,
      "outputs": [
        {
          "output_type": "execute_result",
          "data": {
            "text/html": [
              "<div>\n",
              "<style scoped>\n",
              "    .dataframe tbody tr th:only-of-type {\n",
              "        vertical-align: middle;\n",
              "    }\n",
              "\n",
              "    .dataframe tbody tr th {\n",
              "        vertical-align: top;\n",
              "    }\n",
              "\n",
              "    .dataframe thead th {\n",
              "        text-align: right;\n",
              "    }\n",
              "</style>\n",
              "<table border=\"1\" class=\"dataframe\">\n",
              "  <thead>\n",
              "    <tr style=\"text-align: right;\">\n",
              "      <th></th>\n",
              "      <th>Unnamed: 0</th>\n",
              "      <th>analytical_customer_id</th>\n",
              "      <th>voucher_group</th>\n",
              "      <th>segment_frequency_rest</th>\n",
              "      <th>segment_monetary_rest</th>\n",
              "      <th>segment_discount_dh_rest</th>\n",
              "      <th>segment_variety_rest</th>\n",
              "      <th>segment_basket_rest</th>\n",
              "      <th>lt_order_cluster</th>\n",
              "      <th>recency_cluster</th>\n",
              "      <th>lt_cluster</th>\n",
              "      <th>times_in_churn_segments</th>\n",
              "      <th>preferred_order_period_all_verts</th>\n",
              "      <th>loyalty_status_all_verts</th>\n",
              "      <th>returning_probability_segments</th>\n",
              "      <th>orders</th>\n",
              "      <th>margin</th>\n",
              "      <th>label</th>\n",
              "    </tr>\n",
              "  </thead>\n",
              "  <tbody>\n",
              "    <tr>\n",
              "      <th>0</th>\n",
              "      <td>5</td>\n",
              "      <td>00004b56-d951-4693-aa69-d1986cac9ae0</td>\n",
              "      <td>5</td>\n",
              "      <td>1</td>\n",
              "      <td>2</td>\n",
              "      <td>2</td>\n",
              "      <td>0</td>\n",
              "      <td>2</td>\n",
              "      <td>5</td>\n",
              "      <td>3</td>\n",
              "      <td>720</td>\n",
              "      <td>5</td>\n",
              "      <td>0</td>\n",
              "      <td>1</td>\n",
              "      <td>3</td>\n",
              "      <td>0</td>\n",
              "      <td>0.00</td>\n",
              "      <td>2</td>\n",
              "    </tr>\n",
              "    <tr>\n",
              "      <th>1</th>\n",
              "      <td>11</td>\n",
              "      <td>00008a4a-0e9a-4c05-8cef-01feaf7d5254</td>\n",
              "      <td>2</td>\n",
              "      <td>4</td>\n",
              "      <td>1</td>\n",
              "      <td>2</td>\n",
              "      <td>3</td>\n",
              "      <td>1</td>\n",
              "      <td>5</td>\n",
              "      <td>0</td>\n",
              "      <td>540</td>\n",
              "      <td>5</td>\n",
              "      <td>3</td>\n",
              "      <td>1</td>\n",
              "      <td>2</td>\n",
              "      <td>2</td>\n",
              "      <td>7.91</td>\n",
              "      <td>0</td>\n",
              "    </tr>\n",
              "    <tr>\n",
              "      <th>2</th>\n",
              "      <td>24</td>\n",
              "      <td>000147e2-b93d-4ca8-bd05-25014e0f7874</td>\n",
              "      <td>0</td>\n",
              "      <td>4</td>\n",
              "      <td>2</td>\n",
              "      <td>0</td>\n",
              "      <td>3</td>\n",
              "      <td>1</td>\n",
              "      <td>5</td>\n",
              "      <td>0</td>\n",
              "      <td>720</td>\n",
              "      <td>5</td>\n",
              "      <td>3</td>\n",
              "      <td>1</td>\n",
              "      <td>2</td>\n",
              "      <td>11</td>\n",
              "      <td>1.06</td>\n",
              "      <td>2</td>\n",
              "    </tr>\n",
              "    <tr>\n",
              "      <th>3</th>\n",
              "      <td>29</td>\n",
              "      <td>000172b4-f65e-43f2-b401-02f9c377c892</td>\n",
              "      <td>1</td>\n",
              "      <td>1</td>\n",
              "      <td>1</td>\n",
              "      <td>2</td>\n",
              "      <td>0</td>\n",
              "      <td>2</td>\n",
              "      <td>5</td>\n",
              "      <td>1</td>\n",
              "      <td>180</td>\n",
              "      <td>3</td>\n",
              "      <td>0</td>\n",
              "      <td>2</td>\n",
              "      <td>3</td>\n",
              "      <td>1</td>\n",
              "      <td>5.88</td>\n",
              "      <td>1</td>\n",
              "    </tr>\n",
              "    <tr>\n",
              "      <th>4</th>\n",
              "      <td>32</td>\n",
              "      <td>0001b27c-9814-4ec4-8eb9-2465f82b0c82</td>\n",
              "      <td>4</td>\n",
              "      <td>5</td>\n",
              "      <td>1</td>\n",
              "      <td>2</td>\n",
              "      <td>3</td>\n",
              "      <td>1</td>\n",
              "      <td>1</td>\n",
              "      <td>3</td>\n",
              "      <td>180</td>\n",
              "      <td>1</td>\n",
              "      <td>3</td>\n",
              "      <td>0</td>\n",
              "      <td>1</td>\n",
              "      <td>0</td>\n",
              "      <td>0.00</td>\n",
              "      <td>1</td>\n",
              "    </tr>\n",
              "  </tbody>\n",
              "</table>\n",
              "</div>"
            ],
            "text/plain": [
              "   Unnamed: 0                analytical_customer_id  ...  margin  label\n",
              "0           5  00004b56-d951-4693-aa69-d1986cac9ae0  ...    0.00      2\n",
              "1          11  00008a4a-0e9a-4c05-8cef-01feaf7d5254  ...    7.91      0\n",
              "2          24  000147e2-b93d-4ca8-bd05-25014e0f7874  ...    1.06      2\n",
              "3          29  000172b4-f65e-43f2-b401-02f9c377c892  ...    5.88      1\n",
              "4          32  0001b27c-9814-4ec4-8eb9-2465f82b0c82  ...    0.00      1\n",
              "\n",
              "[5 rows x 18 columns]"
            ]
          },
          "metadata": {
            "tags": []
          },
          "execution_count": 39
        }
      ]
    },
    {
      "cell_type": "code",
      "metadata": {
        "id": "cKHuSdneWpVr"
      },
      "source": [
        "### Simple Linear Regression for single dimensional analysis.\n"
      ],
      "execution_count": 40,
      "outputs": []
    },
    {
      "cell_type": "code",
      "metadata": {
        "id": "-DiDEUgIVmEU"
      },
      "source": [
        "import numpy as np\n",
        "from sklearn.linear_model import LinearRegression\n",
        "from sklearn.model_selection import train_test_split \n",
        "\n"
      ],
      "execution_count": 41,
      "outputs": []
    },
    {
      "cell_type": "code",
      "metadata": {
        "id": "fK9aCVuNVo6r",
        "colab": {
          "base_uri": "https://localhost:8080/"
        },
        "outputId": "3552cb87-2463-4b74-b4db-64eb91e93041"
      },
      "source": [
        "\n",
        "\n",
        "X = df.iloc[:,16:17]\n",
        "\n",
        "y = df.iloc[:,2:3]\n",
        "#print(y)\n",
        "X_train, X_test, y_train, y_test = train_test_split(X, y, test_size=1/3, random_state=0)\n",
        "\n",
        "\n",
        "regressor = LinearRegression()\n",
        "regressor.fit(X_train, y_train)\n",
        "\n",
        "\n",
        "\n",
        "#print(X)\n"
      ],
      "execution_count": 42,
      "outputs": [
        {
          "output_type": "execute_result",
          "data": {
            "text/plain": [
              "LinearRegression(copy_X=True, fit_intercept=True, n_jobs=None, normalize=False)"
            ]
          },
          "metadata": {
            "tags": []
          },
          "execution_count": 42
        }
      ]
    },
    {
      "cell_type": "code",
      "metadata": {
        "colab": {
          "base_uri": "https://localhost:8080/",
          "height": 573
        },
        "id": "EJyw9zP390iz",
        "outputId": "6be4283d-d376-4fa5-87e4-2ea05d8cf447"
      },
      "source": [
        "viz_train = plt\n",
        "viz_train.scatter(X_train, y_train, color='red')\n",
        "viz_train.plot(X_train, regressor.predict(X_train), color='blue')\n",
        "viz_train.title('Linear Regression')\n",
        "viz_train.xlabel('Margin')\n",
        "viz_train.ylabel('Voucher group')\n",
        "viz_train.show()\n",
        "\n",
        "# Visualizing the Test set results\n",
        "viz_test = plt\n",
        "viz_test.scatter(X_test, y_test, color='red')\n",
        "viz_test.plot(X_train, regressor.predict(X_train), color='blue')\n",
        "viz_test.title('Linear Regression')\n",
        "viz_test.xlabel('Margin')\n",
        "viz_test.ylabel('Voucher group')\n",
        "viz_test.show()"
      ],
      "execution_count": 43,
      "outputs": [
        {
          "output_type": "display_data",
          "data": {
            "image/png": "[encoded data removed]",
            "text/plain": [
              "<Figure size 432x288 with 1 Axes>"
            ]
          },
          "metadata": {
            "tags": []
          }
        },
        {
          "output_type": "display_data",
          "data": {
            "image/png": "[encoded data removed]",
            "text/plain": [
              "<Figure size 432x288 with 1 Axes>"
            ]
          },
          "metadata": {
            "tags": []
          }
        }
      ]
    },
    {
      "cell_type": "code",
      "metadata": {
        "id": "0LPWfpQZ90mF"
      },
      "source": [
        "# Predicting the Test set results\n",
        "## For predicting the voucher values based on margin ,value provided through simple linear regression.\n",
        "\n",
        "\n",
        "y_pred = jk.iloc[25:3] \n",
        "#print(y_pred)\n",
        "#y_pred = regressor.predict(X_test)"
      ],
      "execution_count": 44,
      "outputs": []
    },
    {
      "cell_type": "code",
      "metadata": {
        "id": "LS0BzOIV90pw"
      },
      "source": [
        ""
      ],
      "execution_count": 44,
      "outputs": []
    },
    {
      "cell_type": "code",
      "metadata": {
        "id": "AGMDxDnr90sK"
      },
      "source": [
        ""
      ],
      "execution_count": 44,
      "outputs": []
    },
    {
      "cell_type": "code",
      "metadata": {
        "id": "dx1nfvHEWAtF"
      },
      "source": [
        ""
      ],
      "execution_count": 44,
      "outputs": []
    },
    {
      "cell_type": "markdown",
      "metadata": {
        "id": "mmbi3gu7Xmmu"
      },
      "source": [
        "For using this model to predict which vouchers should be given for a test dataset.\n"
      ]
    },
    {
      "cell_type": "code",
      "metadata": {
        "id": "GAlT-0u8WAvW",
        "colab": {
          "base_uri": "https://localhost:8080/",
          "height": 36
        },
        "outputId": "9519c638-cac8-45a1-dd43-0fe47a47d41f"
      },
      "source": [
        "\"\"\"\n",
        "#if you have  y for predicting x , test set.\n",
        "y_pred = model.intercept_ + model.coef_ * x\n",
        "print('predicted response:', y_pred, sep='\\n')\n",
        "\"\"\""
      ],
      "execution_count": 45,
      "outputs": [
        {
          "output_type": "execute_result",
          "data": {
            "application/vnd.google.colaboratory.intrinsic+json": {
              "type": "string"
            },
            "text/plain": [
              "\"\\n#if you have  y for predicting x , test set.\\ny_pred = model.intercept_ + model.coef_ * x\\nprint('predicted response:', y_pred, sep='\\n')\\n\""
            ]
          },
          "metadata": {
            "tags": []
          },
          "execution_count": 45
        }
      ]
    },
    {
      "cell_type": "code",
      "metadata": {
        "id": "_R3Ad2ISWAx7",
        "colab": {
          "base_uri": "https://localhost:8080/",
          "height": 36
        },
        "outputId": "41a825cb-7fb0-4ebf-c1d8-c6f698c77471"
      },
      "source": [
        "\"\"\"\n",
        "x_new = np.arange(5).reshape((-1, 1))\n",
        "print(x_new)\n",
        "y_new = model.predict(x_new)\n",
        "print(y_new)\n",
        "\"\"\""
      ],
      "execution_count": 46,
      "outputs": [
        {
          "output_type": "execute_result",
          "data": {
            "application/vnd.google.colaboratory.intrinsic+json": {
              "type": "string"
            },
            "text/plain": [
              "'\\nx_new = np.arange(5).reshape((-1, 1))\\nprint(x_new)\\ny_new = model.predict(x_new)\\nprint(y_new)\\n'"
            ]
          },
          "metadata": {
            "tags": []
          },
          "execution_count": 46
        }
      ]
    },
    {
      "cell_type": "code",
      "metadata": {
        "id": "1R-p4gEmVo9i"
      },
      "source": [
        "### to check for cluster files , it has been grouped by the kmeans clustring and a seperate column has been added to the df file named \"label\""
      ],
      "execution_count": 47,
      "outputs": []
    },
    {
      "cell_type": "code",
      "metadata": {
        "colab": {
          "base_uri": "https://localhost:8080/"
        },
        "id": "WU5xDfcbn1nA",
        "outputId": "bc109b47-3aad-4cc5-8150-ccb1a8efa35a"
      },
      "source": [
        "df['label']"
      ],
      "execution_count": 48,
      "outputs": [
        {
          "output_type": "execute_result",
          "data": {
            "text/plain": [
              "0         2\n",
              "1         0\n",
              "2         2\n",
              "3         1\n",
              "4         1\n",
              "         ..\n",
              "237483    1\n",
              "237484    1\n",
              "237485    1\n",
              "237486    1\n",
              "237487    1\n",
              "Name: label, Length: 237488, dtype: int32"
            ]
          },
          "metadata": {
            "tags": []
          },
          "execution_count": 48
        }
      ]
    },
    {
      "cell_type": "code",
      "metadata": {
        "id": "WsZINrguoARz"
      },
      "source": [
        ""
      ],
      "execution_count": 48,
      "outputs": []
    }
  ]
}